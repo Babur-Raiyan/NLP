{
 "cells": [
  {
   "cell_type": "code",
   "execution_count": 2,
   "id": "initial_id",
   "metadata": {
    "collapsed": true,
    "ExecuteTime": {
     "end_time": "2023-11-29T03:30:59.240652700Z",
     "start_time": "2023-11-29T03:30:58.623762300Z"
    }
   },
   "outputs": [
    {
     "data": {
      "text/plain": "                                                text  category\n0  Watching Schrödinger's Cat Die University of C...   SCIENCE\n1     WATCH: Freaky Vortex Opens Up In Flooded Lake    SCIENCE\n2  Entrepreneurs Today Don't Need a Big Budget to...  BUSINESS\n3  These Roads Could Recharge Your Electric Car A...  BUSINESS\n4  Civilian 'Guard' Fires Gun While 'Protecting' ...     CRIME",
      "text/html": "<div>\n<style scoped>\n    .dataframe tbody tr th:only-of-type {\n        vertical-align: middle;\n    }\n\n    .dataframe tbody tr th {\n        vertical-align: top;\n    }\n\n    .dataframe thead th {\n        text-align: right;\n    }\n</style>\n<table border=\"1\" class=\"dataframe\">\n  <thead>\n    <tr style=\"text-align: right;\">\n      <th></th>\n      <th>text</th>\n      <th>category</th>\n    </tr>\n  </thead>\n  <tbody>\n    <tr>\n      <th>0</th>\n      <td>Watching Schrödinger's Cat Die University of C...</td>\n      <td>SCIENCE</td>\n    </tr>\n    <tr>\n      <th>1</th>\n      <td>WATCH: Freaky Vortex Opens Up In Flooded Lake</td>\n      <td>SCIENCE</td>\n    </tr>\n    <tr>\n      <th>2</th>\n      <td>Entrepreneurs Today Don't Need a Big Budget to...</td>\n      <td>BUSINESS</td>\n    </tr>\n    <tr>\n      <th>3</th>\n      <td>These Roads Could Recharge Your Electric Car A...</td>\n      <td>BUSINESS</td>\n    </tr>\n    <tr>\n      <th>4</th>\n      <td>Civilian 'Guard' Fires Gun While 'Protecting' ...</td>\n      <td>CRIME</td>\n    </tr>\n  </tbody>\n</table>\n</div>"
     },
     "execution_count": 2,
     "metadata": {},
     "output_type": "execute_result"
    }
   ],
   "source": [
    "import pickle\n",
    "\n",
    "import pandas as pd\n",
    "\n",
    "df = pd.read_json(r\"D:\\Downloads\\Datasets\\news_dataset.json\")\n",
    "df.head()"
   ]
  },
  {
   "cell_type": "code",
   "execution_count": 3,
   "outputs": [
    {
     "data": {
      "text/plain": "text        0\ncategory    0\ndtype: int64"
     },
     "execution_count": 3,
     "metadata": {},
     "output_type": "execute_result"
    }
   ],
   "source": [
    "df.isna().sum()"
   ],
   "metadata": {
    "collapsed": false,
    "ExecuteTime": {
     "end_time": "2023-11-29T03:30:59.242653Z",
     "start_time": "2023-11-29T03:30:58.694173300Z"
    }
   },
   "id": "508bf5d39eace62a"
  },
  {
   "cell_type": "code",
   "execution_count": 4,
   "outputs": [
    {
     "data": {
      "text/plain": "                                                    text  category\n4466   How Can Businesses Build Trust? Putting in pla...  BUSINESS\n5172                       Ferguson Police Officer Shot      CRIME\n7259                9 Terrifying American Murder Houses      CRIME\n9792   10 Most Hated Companies In America To be truly...  BUSINESS\n12268  Two Victims Shot On Texas Southern University ...     CRIME\n12410    Dallas Shooting Suspect Confirmed Dead: Police      CRIME",
      "text/html": "<div>\n<style scoped>\n    .dataframe tbody tr th:only-of-type {\n        vertical-align: middle;\n    }\n\n    .dataframe tbody tr th {\n        vertical-align: top;\n    }\n\n    .dataframe thead th {\n        text-align: right;\n    }\n</style>\n<table border=\"1\" class=\"dataframe\">\n  <thead>\n    <tr style=\"text-align: right;\">\n      <th></th>\n      <th>text</th>\n      <th>category</th>\n    </tr>\n  </thead>\n  <tbody>\n    <tr>\n      <th>4466</th>\n      <td>How Can Businesses Build Trust? Putting in pla...</td>\n      <td>BUSINESS</td>\n    </tr>\n    <tr>\n      <th>5172</th>\n      <td>Ferguson Police Officer Shot</td>\n      <td>CRIME</td>\n    </tr>\n    <tr>\n      <th>7259</th>\n      <td>9 Terrifying American Murder Houses</td>\n      <td>CRIME</td>\n    </tr>\n    <tr>\n      <th>9792</th>\n      <td>10 Most Hated Companies In America To be truly...</td>\n      <td>BUSINESS</td>\n    </tr>\n    <tr>\n      <th>12268</th>\n      <td>Two Victims Shot On Texas Southern University ...</td>\n      <td>CRIME</td>\n    </tr>\n    <tr>\n      <th>12410</th>\n      <td>Dallas Shooting Suspect Confirmed Dead: Police</td>\n      <td>CRIME</td>\n    </tr>\n  </tbody>\n</table>\n</div>"
     },
     "execution_count": 4,
     "metadata": {},
     "output_type": "execute_result"
    }
   ],
   "source": [
    "df[df.duplicated()]"
   ],
   "metadata": {
    "collapsed": false,
    "ExecuteTime": {
     "end_time": "2023-11-29T03:30:59.245662200Z",
     "start_time": "2023-11-29T03:30:58.705430700Z"
    }
   },
   "id": "857f34eae93775be"
  },
  {
   "cell_type": "code",
   "execution_count": 5,
   "outputs": [
    {
     "data": {
      "text/plain": "Empty DataFrame\nColumns: [text, category]\nIndex: []",
      "text/html": "<div>\n<style scoped>\n    .dataframe tbody tr th:only-of-type {\n        vertical-align: middle;\n    }\n\n    .dataframe tbody tr th {\n        vertical-align: top;\n    }\n\n    .dataframe thead th {\n        text-align: right;\n    }\n</style>\n<table border=\"1\" class=\"dataframe\">\n  <thead>\n    <tr style=\"text-align: right;\">\n      <th></th>\n      <th>text</th>\n      <th>category</th>\n    </tr>\n  </thead>\n  <tbody>\n  </tbody>\n</table>\n</div>"
     },
     "execution_count": 5,
     "metadata": {},
     "output_type": "execute_result"
    }
   ],
   "source": [
    "df = df[~df.duplicated()]\n",
    "df[df.duplicated()]"
   ],
   "metadata": {
    "collapsed": false,
    "ExecuteTime": {
     "end_time": "2023-11-29T03:30:59.245662200Z",
     "start_time": "2023-11-29T03:30:58.812418400Z"
    }
   },
   "id": "3d7641bdcb2ec192"
  },
  {
   "cell_type": "code",
   "execution_count": 6,
   "outputs": [
    {
     "data": {
      "text/plain": "category\nBUSINESS    4252\nSPORTS      4167\nCRIME       2889\nSCIENCE     1381\nName: count, dtype: int64"
     },
     "execution_count": 6,
     "metadata": {},
     "output_type": "execute_result"
    }
   ],
   "source": [
    "df.category.value_counts()"
   ],
   "metadata": {
    "collapsed": false,
    "ExecuteTime": {
     "end_time": "2023-11-29T03:30:59.261301900Z",
     "start_time": "2023-11-29T03:30:58.840184900Z"
    }
   },
   "id": "55b9a82c89ee7ba1"
  },
  {
   "cell_type": "code",
   "execution_count": 7,
   "outputs": [],
   "source": [
    "# Dataset is imbalanaced :( . Needs working."
   ],
   "metadata": {
    "collapsed": false,
    "ExecuteTime": {
     "end_time": "2023-11-29T03:30:59.261301900Z",
     "start_time": "2023-11-29T03:30:58.850201800Z"
    }
   },
   "id": "2e354a4b4aa010db"
  },
  {
   "cell_type": "code",
   "execution_count": 8,
   "outputs": [
    {
     "data": {
      "text/plain": "                                                text  category  cat_numerical\n0  Watching Schrödinger's Cat Die University of C...   SCIENCE              3\n1     WATCH: Freaky Vortex Opens Up In Flooded Lake    SCIENCE              3\n2  Entrepreneurs Today Don't Need a Big Budget to...  BUSINESS              0\n3  These Roads Could Recharge Your Electric Car A...  BUSINESS              0\n4  Civilian 'Guard' Fires Gun While 'Protecting' ...     CRIME              2",
      "text/html": "<div>\n<style scoped>\n    .dataframe tbody tr th:only-of-type {\n        vertical-align: middle;\n    }\n\n    .dataframe tbody tr th {\n        vertical-align: top;\n    }\n\n    .dataframe thead th {\n        text-align: right;\n    }\n</style>\n<table border=\"1\" class=\"dataframe\">\n  <thead>\n    <tr style=\"text-align: right;\">\n      <th></th>\n      <th>text</th>\n      <th>category</th>\n      <th>cat_numerical</th>\n    </tr>\n  </thead>\n  <tbody>\n    <tr>\n      <th>0</th>\n      <td>Watching Schrödinger's Cat Die University of C...</td>\n      <td>SCIENCE</td>\n      <td>3</td>\n    </tr>\n    <tr>\n      <th>1</th>\n      <td>WATCH: Freaky Vortex Opens Up In Flooded Lake</td>\n      <td>SCIENCE</td>\n      <td>3</td>\n    </tr>\n    <tr>\n      <th>2</th>\n      <td>Entrepreneurs Today Don't Need a Big Budget to...</td>\n      <td>BUSINESS</td>\n      <td>0</td>\n    </tr>\n    <tr>\n      <th>3</th>\n      <td>These Roads Could Recharge Your Electric Car A...</td>\n      <td>BUSINESS</td>\n      <td>0</td>\n    </tr>\n    <tr>\n      <th>4</th>\n      <td>Civilian 'Guard' Fires Gun While 'Protecting' ...</td>\n      <td>CRIME</td>\n      <td>2</td>\n    </tr>\n  </tbody>\n</table>\n</div>"
     },
     "execution_count": 8,
     "metadata": {},
     "output_type": "execute_result"
    }
   ],
   "source": [
    "df['cat_numerical'] = df['category'].replace({\"BUSINESS\":0,\"SPORTS\":1,\"CRIME\":2,\"SCIENCE\":3})\n",
    "df.head()"
   ],
   "metadata": {
    "collapsed": false,
    "ExecuteTime": {
     "end_time": "2023-11-29T03:30:59.262302400Z",
     "start_time": "2023-11-29T03:30:58.854204400Z"
    }
   },
   "id": "506c96de71a1d0fb"
  },
  {
   "cell_type": "code",
   "execution_count": 9,
   "outputs": [
    {
     "data": {
      "text/plain": "(category\n BUSINESS    4252\n SPORTS      4167\n CRIME       2889\n SCIENCE     1381\n Name: count, dtype: int64,\n cat_numerical\n 0    4252\n 1    4167\n 2    2889\n 3    1381\n Name: count, dtype: int64)"
     },
     "execution_count": 9,
     "metadata": {},
     "output_type": "execute_result"
    }
   ],
   "source": [
    "df.category.value_counts(), df.cat_numerical.value_counts()"
   ],
   "metadata": {
    "collapsed": false,
    "ExecuteTime": {
     "end_time": "2023-11-29T03:30:59.263302900Z",
     "start_time": "2023-11-29T03:30:58.870725900Z"
    }
   },
   "id": "d299cee88b2dd8f"
  },
  {
   "cell_type": "markdown",
   "source": [
    "<h1 style=\"color: green\"> Balancing Dataset(SMOTE) </h1>"
   ],
   "metadata": {
    "collapsed": false
   },
   "id": "6b489e9ba30645bd"
  },
  {
   "cell_type": "code",
   "execution_count": 10,
   "outputs": [],
   "source": [
    "from imblearn.over_sampling import SMOTE\n",
    "\n",
    "smote = SMOTE(sampling_strategy='minority', random_state=1)"
   ],
   "metadata": {
    "collapsed": false,
    "ExecuteTime": {
     "end_time": "2023-11-29T03:30:59.805112300Z",
     "start_time": "2023-11-29T03:30:58.879173500Z"
    }
   },
   "id": "4c9e37364e753369"
  },
  {
   "cell_type": "markdown",
   "source": [
    "<h2 style=\"color: purple\"> Defining a function to do Lemmatization and dropping stop words </h2>"
   ],
   "metadata": {
    "collapsed": false
   },
   "id": "8fc805465e396cc0"
  },
  {
   "cell_type": "code",
   "execution_count": 11,
   "outputs": [],
   "source": [
    "import spacy\n",
    "nlp = spacy.load(\"en_core_web_sm\")\n",
    "\n",
    "def processing(text):\n",
    "    doc = nlp(text.lower())\n",
    "    lst_no_stops_and_punct = []\n",
    "    for token in doc:\n",
    "        if token.is_punct or token.is_stop:\n",
    "            continue\n",
    "        lst_no_stops_and_punct.append(token.lemma_)\n",
    "    return \" \".join(lst_no_stops_and_punct)"
   ],
   "metadata": {
    "collapsed": false,
    "ExecuteTime": {
     "end_time": "2023-11-29T03:31:01.992132500Z",
     "start_time": "2023-11-29T03:30:59.806112800Z"
    }
   },
   "id": "78998925dab13a77"
  },
  {
   "cell_type": "code",
   "execution_count": 12,
   "outputs": [
    {
     "data": {
      "text/plain": "'eat burger day'"
     },
     "execution_count": 12,
     "metadata": {},
     "output_type": "execute_result"
    }
   ],
   "source": [
    "processing(\"he ate a burger last day\")"
   ],
   "metadata": {
    "collapsed": false,
    "ExecuteTime": {
     "end_time": "2023-11-29T03:31:02.016087200Z",
     "start_time": "2023-11-29T03:31:01.992132500Z"
    }
   },
   "id": "227027ed8d007c60"
  },
  {
   "cell_type": "code",
   "execution_count": 13,
   "outputs": [],
   "source": [
    "df['processesed_text'] = df.text.apply(processing)"
   ],
   "metadata": {
    "collapsed": false,
    "ExecuteTime": {
     "end_time": "2023-11-29T03:32:49.825407800Z",
     "start_time": "2023-11-29T03:31:02.015086600Z"
    }
   },
   "id": "c0b764736ea77880"
  },
  {
   "cell_type": "code",
   "execution_count": 14,
   "outputs": [
    {
     "data": {
      "text/plain": "                                                   text  category  \\\n4596  If You Trust Big Corporations, Don’t Read This...  BUSINESS   \n5622  An Afternoon With Peter Lynch As part of the C...  BUSINESS   \n5975  Why Won't Frontier Fix My Landline? When the p...  BUSINESS   \n8622  New Ad Proves D.C. Football Can Survive Withou...    SPORTS   \n6662  Dallas Police Chief Who Guided Force During Sn...     CRIME   \n\n      cat_numerical                                   processesed_text  \n4596              0  trust big corporation read president trump rec...  \n5622              0  afternoon peter lynch catholic speakers series...  \n5975              0  will frontier fix landline phone company chery...  \n8622              1  new ad prove d.c football survive redskin onli...  \n6662              2  dallas police chief guide force sniper attack ...  ",
      "text/html": "<div>\n<style scoped>\n    .dataframe tbody tr th:only-of-type {\n        vertical-align: middle;\n    }\n\n    .dataframe tbody tr th {\n        vertical-align: top;\n    }\n\n    .dataframe thead th {\n        text-align: right;\n    }\n</style>\n<table border=\"1\" class=\"dataframe\">\n  <thead>\n    <tr style=\"text-align: right;\">\n      <th></th>\n      <th>text</th>\n      <th>category</th>\n      <th>cat_numerical</th>\n      <th>processesed_text</th>\n    </tr>\n  </thead>\n  <tbody>\n    <tr>\n      <th>4596</th>\n      <td>If You Trust Big Corporations, Don’t Read This...</td>\n      <td>BUSINESS</td>\n      <td>0</td>\n      <td>trust big corporation read president trump rec...</td>\n    </tr>\n    <tr>\n      <th>5622</th>\n      <td>An Afternoon With Peter Lynch As part of the C...</td>\n      <td>BUSINESS</td>\n      <td>0</td>\n      <td>afternoon peter lynch catholic speakers series...</td>\n    </tr>\n    <tr>\n      <th>5975</th>\n      <td>Why Won't Frontier Fix My Landline? When the p...</td>\n      <td>BUSINESS</td>\n      <td>0</td>\n      <td>will frontier fix landline phone company chery...</td>\n    </tr>\n    <tr>\n      <th>8622</th>\n      <td>New Ad Proves D.C. Football Can Survive Withou...</td>\n      <td>SPORTS</td>\n      <td>1</td>\n      <td>new ad prove d.c football survive redskin onli...</td>\n    </tr>\n    <tr>\n      <th>6662</th>\n      <td>Dallas Police Chief Who Guided Force During Sn...</td>\n      <td>CRIME</td>\n      <td>2</td>\n      <td>dallas police chief guide force sniper attack ...</td>\n    </tr>\n  </tbody>\n</table>\n</div>"
     },
     "execution_count": 14,
     "metadata": {},
     "output_type": "execute_result"
    }
   ],
   "source": [
    "df.sample(5)"
   ],
   "metadata": {
    "collapsed": false,
    "ExecuteTime": {
     "end_time": "2023-11-29T03:32:49.838563600Z",
     "start_time": "2023-11-29T03:32:49.827408100Z"
    }
   },
   "id": "cc6d1e165ada8ee1"
  },
  {
   "cell_type": "markdown",
   "source": [
    "<h2 style=\"color: purple\">Creating X and y </h2>"
   ],
   "metadata": {
    "collapsed": false
   },
   "id": "85915407549faf2f"
  },
  {
   "cell_type": "code",
   "execution_count": 15,
   "outputs": [
    {
     "data": {
      "text/plain": "                                    processesed_text\n0  watch schrödinger cat die university californi...\n1                watch freaky vortex open flood lake\n2  entrepreneur today need big budget start year ...\n3  road recharge electric car drive high tech hig...\n4  civilian guard fire gun protect recruiting cen...",
      "text/html": "<div>\n<style scoped>\n    .dataframe tbody tr th:only-of-type {\n        vertical-align: middle;\n    }\n\n    .dataframe tbody tr th {\n        vertical-align: top;\n    }\n\n    .dataframe thead th {\n        text-align: right;\n    }\n</style>\n<table border=\"1\" class=\"dataframe\">\n  <thead>\n    <tr style=\"text-align: right;\">\n      <th></th>\n      <th>processesed_text</th>\n    </tr>\n  </thead>\n  <tbody>\n    <tr>\n      <th>0</th>\n      <td>watch schrödinger cat die university californi...</td>\n    </tr>\n    <tr>\n      <th>1</th>\n      <td>watch freaky vortex open flood lake</td>\n    </tr>\n    <tr>\n      <th>2</th>\n      <td>entrepreneur today need big budget start year ...</td>\n    </tr>\n    <tr>\n      <th>3</th>\n      <td>road recharge electric car drive high tech hig...</td>\n    </tr>\n    <tr>\n      <th>4</th>\n      <td>civilian guard fire gun protect recruiting cen...</td>\n    </tr>\n  </tbody>\n</table>\n</div>"
     },
     "execution_count": 15,
     "metadata": {},
     "output_type": "execute_result"
    }
   ],
   "source": [
    "X = df.drop(['category','cat_numerical','text'], axis=1)\n",
    "X.head()"
   ],
   "metadata": {
    "collapsed": false,
    "ExecuteTime": {
     "end_time": "2023-11-29T03:32:50.115077700Z",
     "start_time": "2023-11-29T03:32:49.842081Z"
    }
   },
   "id": "eec82bc3899ea881"
  },
  {
   "cell_type": "code",
   "execution_count": 16,
   "outputs": [
    {
     "data": {
      "text/plain": "0    3\n1    3\n2    0\n3    0\n4    2\nName: cat_numerical, dtype: int64"
     },
     "execution_count": 16,
     "metadata": {},
     "output_type": "execute_result"
    }
   ],
   "source": [
    "y = df.cat_numerical\n",
    "y.head()"
   ],
   "metadata": {
    "collapsed": false,
    "ExecuteTime": {
     "end_time": "2023-11-29T03:32:50.293269200Z",
     "start_time": "2023-11-29T03:32:50.055798300Z"
    }
   },
   "id": "680e4a5ee98d3ec3"
  },
  {
   "cell_type": "code",
   "execution_count": 17,
   "outputs": [
    {
     "data": {
      "text/plain": "(cat_numerical\n 0    3401\n 1    3334\n 2    2311\n 3    1105\n Name: count, dtype: int64,\n cat_numerical\n 0    851\n 1    833\n 2    578\n 3    276\n Name: count, dtype: int64)"
     },
     "execution_count": 17,
     "metadata": {},
     "output_type": "execute_result"
    }
   ],
   "source": [
    "from sklearn.model_selection import train_test_split\n",
    "\n",
    "X_train, X_test, y_train, y_test = train_test_split(df.processesed_text,df.cat_numerical, test_size=0.2, stratify=df.cat_numerical, random_state=1)\n",
    "y_train.value_counts(), y_test.value_counts()"
   ],
   "metadata": {
    "collapsed": false,
    "ExecuteTime": {
     "end_time": "2023-11-29T03:32:50.294270200Z",
     "start_time": "2023-11-29T03:32:50.247096600Z"
    }
   },
   "id": "2677abba6a894003"
  },
  {
   "cell_type": "markdown",
   "source": [
    "<h1 style=\"color: blue\"> Training with MultinomialNB </h1>"
   ],
   "metadata": {
    "collapsed": false
   },
   "id": "4fe2c83f25cdd5c4"
  },
  {
   "cell_type": "code",
   "execution_count": 18,
   "outputs": [],
   "source": [
    "from imblearn.pipeline import Pipeline\n",
    "from sklearn.feature_extraction.text import TfidfVectorizer\n",
    "from sklearn.naive_bayes import MultinomialNB\n",
    "\n",
    "\n",
    "multinomialnb_pipeline = Pipeline([\n",
    "    ('tf_idf', TfidfVectorizer()),\n",
    "    ('smote', SMOTE(sampling_strategy='auto', random_state=1)),\n",
    "    ('naive_bayes_nb', MultinomialNB())\n",
    "])"
   ],
   "metadata": {
    "collapsed": false,
    "ExecuteTime": {
     "end_time": "2023-11-29T03:32:50.294270200Z",
     "start_time": "2023-11-29T03:32:50.263440700Z"
    }
   },
   "id": "fec0645ae2f499d6"
  },
  {
   "cell_type": "code",
   "execution_count": 19,
   "outputs": [
    {
     "name": "stdout",
     "output_type": "stream",
     "text": [
      "              precision    recall  f1-score   support\n",
      "\n",
      "           0       0.91      0.92      0.91       851\n",
      "           1       0.94      0.88      0.91       833\n",
      "           2       0.87      0.94      0.90       578\n",
      "           3       0.85      0.83      0.84       276\n",
      "\n",
      "    accuracy                           0.90      2538\n",
      "   macro avg       0.89      0.89      0.89      2538\n",
      "weighted avg       0.90      0.90      0.90      2538\n"
     ]
    }
   ],
   "source": [
    "multinomialnb_pipeline.fit(X_train, y_train)\n",
    "\n",
    "y_pred = multinomialnb_pipeline.predict(X_test)\n",
    "\n",
    "from sklearn.metrics import classification_report, confusion_matrix\n",
    "\n",
    "print(classification_report(y_test, y_pred))"
   ],
   "metadata": {
    "collapsed": false,
    "ExecuteTime": {
     "end_time": "2023-11-29T03:32:51.894509700Z",
     "start_time": "2023-11-29T03:32:50.287689500Z"
    }
   },
   "id": "1ba66ec56ac5bc7c"
  },
  {
   "cell_type": "code",
   "execution_count": 20,
   "outputs": [
    {
     "data": {
      "text/plain": "((10151,), (10151,))"
     },
     "execution_count": 20,
     "metadata": {},
     "output_type": "execute_result"
    }
   ],
   "source": [
    "X_train.shape , y_train.shape"
   ],
   "metadata": {
    "collapsed": false,
    "ExecuteTime": {
     "end_time": "2023-11-29T03:32:51.902182300Z",
     "start_time": "2023-11-29T03:32:51.895510300Z"
    }
   },
   "id": "abbf5ad9c963cd38"
  },
  {
   "cell_type": "code",
   "execution_count": 21,
   "outputs": [],
   "source": [
    "scores = []\n",
    "score_nb = multinomialnb_pipeline.score(X_test,y_test)\n",
    "scores.append(score_nb)"
   ],
   "metadata": {
    "collapsed": false,
    "ExecuteTime": {
     "end_time": "2023-11-29T03:32:51.982088700Z",
     "start_time": "2023-11-29T03:32:51.901161200Z"
    }
   },
   "id": "c93409f456c517fd"
  },
  {
   "cell_type": "markdown",
   "source": [
    "<h1 style=\"color: blue\"> Training with Random Forest </h1>"
   ],
   "metadata": {
    "collapsed": false
   },
   "id": "a189e5560f503b0"
  },
  {
   "cell_type": "code",
   "execution_count": 22,
   "outputs": [],
   "source": [
    "from sklearn.ensemble import RandomForestClassifier\n",
    "\n",
    "random_forest_pipeline = Pipeline([\n",
    "    ('tf_idf', TfidfVectorizer()),\n",
    "    ('smote', SMOTE(sampling_strategy='auto', random_state=1)),\n",
    "    ('random_forest', RandomForestClassifier())\n",
    "])"
   ],
   "metadata": {
    "collapsed": false,
    "ExecuteTime": {
     "end_time": "2023-11-29T03:32:51.988254200Z",
     "start_time": "2023-11-29T03:32:51.954863Z"
    }
   },
   "id": "5a927d451cb4a98f"
  },
  {
   "cell_type": "code",
   "execution_count": 23,
   "outputs": [
    {
     "name": "stdout",
     "output_type": "stream",
     "text": [
      "Random Forest:\n",
      "\n",
      "              precision    recall  f1-score   support\n",
      "\n",
      "           0       0.81      0.90      0.85       851\n",
      "           1       0.90      0.82      0.86       833\n",
      "           2       0.83      0.90      0.86       578\n",
      "           3       0.86      0.63      0.73       276\n",
      "\n",
      "    accuracy                           0.85      2538\n",
      "   macro avg       0.85      0.81      0.83      2538\n",
      "weighted avg       0.85      0.85      0.84      2538\n"
     ]
    }
   ],
   "source": [
    "random_forest_pipeline.fit(X_train, y_train)\n",
    "\n",
    "y_pred = random_forest_pipeline.predict(X_test)\n",
    "\n",
    "from sklearn.metrics import classification_report, confusion_matrix\n",
    "print(\"Random Forest:\\n\")\n",
    "print(classification_report(y_test, y_pred))"
   ],
   "metadata": {
    "collapsed": false,
    "ExecuteTime": {
     "end_time": "2023-11-29T03:33:36.857779100Z",
     "start_time": "2023-11-29T03:32:51.959589400Z"
    }
   },
   "id": "8dca1931f7addea4"
  },
  {
   "cell_type": "code",
   "execution_count": 24,
   "outputs": [],
   "source": [
    "score_rf = random_forest_pipeline.score(X_test,y_test)\n",
    "scores.append(score_rf)"
   ],
   "metadata": {
    "collapsed": false,
    "ExecuteTime": {
     "end_time": "2023-11-29T03:33:37.023116400Z",
     "start_time": "2023-11-29T03:33:36.857779100Z"
    }
   },
   "id": "f973a613106f88fa"
  },
  {
   "cell_type": "markdown",
   "source": [
    "<h1 style=\"color: blue\"> Training with KNN </h1>"
   ],
   "metadata": {
    "collapsed": false
   },
   "id": "b3c7f7df5b4365c9"
  },
  {
   "cell_type": "code",
   "execution_count": 25,
   "outputs": [],
   "source": [
    "from sklearn.neighbors import KNeighborsClassifier as KNN\n",
    "\n",
    "knn_pipeline = Pipeline([\n",
    "    ('tf_idf', TfidfVectorizer()),\n",
    "    ('smote', SMOTE(sampling_strategy='auto', random_state=1)),\n",
    "    ('knn', KNN(n_neighbors=6))\n",
    "])"
   ],
   "metadata": {
    "collapsed": false,
    "ExecuteTime": {
     "end_time": "2023-11-29T03:33:37.038485300Z",
     "start_time": "2023-11-29T03:33:37.025969300Z"
    }
   },
   "id": "f436b84b0ee75242"
  },
  {
   "cell_type": "code",
   "execution_count": 26,
   "outputs": [
    {
     "name": "stdout",
     "output_type": "stream",
     "text": [
      "KNN:\n",
      "\n",
      "              precision    recall  f1-score   support\n",
      "\n",
      "           0       0.55      0.60      0.57       851\n",
      "           1       0.98      0.24      0.39       833\n",
      "           2       0.73      0.77      0.75       578\n",
      "           3       0.31      0.90      0.46       276\n",
      "\n",
      "    accuracy                           0.55      2538\n",
      "   macro avg       0.64      0.63      0.54      2538\n",
      "weighted avg       0.71      0.55      0.54      2538\n"
     ]
    }
   ],
   "source": [
    "knn_pipeline.fit(X_train, y_train)\n",
    "\n",
    "y_pred = knn_pipeline.predict(X_test)\n",
    "\n",
    "from sklearn.metrics import classification_report, confusion_matrix\n",
    "\n",
    "print('KNN:\\n')\n",
    "print(classification_report(y_test, y_pred))"
   ],
   "metadata": {
    "collapsed": false,
    "ExecuteTime": {
     "end_time": "2023-11-29T03:33:39.920705800Z",
     "start_time": "2023-11-29T03:33:37.029977100Z"
    }
   },
   "id": "3380a69571f21c1d"
  },
  {
   "cell_type": "code",
   "execution_count": 27,
   "outputs": [],
   "source": [
    "score_knn = knn_pipeline.score(X_test,y_test)\n",
    "scores.append(score_knn)"
   ],
   "metadata": {
    "collapsed": false,
    "ExecuteTime": {
     "end_time": "2023-11-29T03:33:41.724215200Z",
     "start_time": "2023-11-29T03:33:39.921707400Z"
    }
   },
   "id": "b44cd32a5b4e6984"
  },
  {
   "cell_type": "code",
   "execution_count": 28,
   "outputs": [
    {
     "data": {
      "text/plain": "[0.9014972419227738, 0.8459416863672183, 0.5543735224586288]"
     },
     "execution_count": 28,
     "metadata": {},
     "output_type": "execute_result"
    }
   ],
   "source": [
    "scores"
   ],
   "metadata": {
    "collapsed": false,
    "ExecuteTime": {
     "end_time": "2023-11-29T03:33:41.729255400Z",
     "start_time": "2023-11-29T03:33:41.725184700Z"
    }
   },
   "id": "f95d320db901838a"
  },
  {
   "cell_type": "markdown",
   "source": [
    "<h1 style=\"color: red\"> Vizualization </h1>"
   ],
   "metadata": {
    "collapsed": false
   },
   "id": "ec367cbde5bd105d"
  },
  {
   "cell_type": "code",
   "execution_count": 29,
   "outputs": [],
   "source": [
    "import matplotlib.pyplot as plt\n",
    "import seaborn as sns\n",
    "from matplotlib import style\n",
    "style.use('fivethirtyeight')"
   ],
   "metadata": {
    "collapsed": false,
    "ExecuteTime": {
     "end_time": "2023-11-29T03:33:41.743235500Z",
     "start_time": "2023-11-29T03:33:41.730255600Z"
    }
   },
   "id": "c93b385f7341a461"
  },
  {
   "cell_type": "code",
   "execution_count": 30,
   "outputs": [
    {
     "data": {
      "text/plain": "[]"
     },
     "execution_count": 30,
     "metadata": {},
     "output_type": "execute_result"
    },
    {
     "data": {
      "text/plain": "<Figure size 1200x750 with 1 Axes>",
      "image/png": "[encoded data removed]"
     },
     "metadata": {},
     "output_type": "display_data"
    }
   ],
   "source": [
    "x=['Naive Bayes','Random Forest', 'KNN']\n",
    "\n",
    "plt.figure(figsize=(8,5), dpi=150)\n",
    "sns.barplot(x=x, y=scores, palette='viridis', width=0.25, hue=x)\n",
    "plt.title('Scores of the models')\n",
    "plt.xlabel('Models')\n",
    "plt.ylabel(\"Score\")\n",
    "plt.plot()"
   ],
   "metadata": {
    "collapsed": false,
    "ExecuteTime": {
     "end_time": "2023-11-29T03:33:42.026217500Z",
     "start_time": "2023-11-29T03:33:41.739722900Z"
    }
   },
   "id": "37fc6680cf169620"
  },
  {
   "cell_type": "code",
   "execution_count": 31,
   "outputs": [],
   "source": [
    "class_labels = [\"Business\", 'Sports', \"Crime\", 'Science']"
   ],
   "metadata": {
    "collapsed": false,
    "ExecuteTime": {
     "end_time": "2023-11-29T03:33:42.028729700Z",
     "start_time": "2023-11-29T03:33:42.026721600Z"
    }
   },
   "id": "baa152c455b924c1"
  },
  {
   "cell_type": "code",
   "execution_count": 32,
   "outputs": [
    {
     "data": {
      "text/plain": "<Figure size 975x750 with 2 Axes>",
      "image/png": "[encoded data removed]"
     },
     "metadata": {},
     "output_type": "display_data"
    }
   ],
   "source": [
    "y_hat = multinomialnb_pipeline.predict(X_test)\n",
    "cm = confusion_matrix(y_test, y_hat)\n",
    "\n",
    "plt.figure(figsize=(6.5,5), dpi=150)\n",
    "sns.heatmap(cm, annot=True, fmt='d', cmap='crest', xticklabels=class_labels, yticklabels=class_labels)\n",
    "plt.xlabel('Prediction')\n",
    "plt.ylabel('Truth')\n",
    "plt.title('Accuracy for best model (MultiNB)')\n",
    "plt.show()"
   ],
   "metadata": {
    "collapsed": false,
    "ExecuteTime": {
     "end_time": "2023-11-29T03:33:42.424461300Z",
     "start_time": "2023-11-29T03:33:42.031730500Z"
    }
   },
   "id": "d7968407b0b691f8"
  },
  {
   "cell_type": "markdown",
   "source": [
    "<h1 style=\"color: magenta\"> Exporting pickle file </h1>"
   ],
   "metadata": {
    "collapsed": false
   },
   "id": "418ba429ad69dc0d"
  },
  {
   "cell_type": "code",
   "execution_count": 34,
   "outputs": [],
   "source": [
    "import pickle\n",
    "\n",
    "with open('news_classification.pickle', 'wb') as f:\n",
    "    pickle.dump(multinomialnb_pipeline, f)"
   ],
   "metadata": {
    "collapsed": false,
    "ExecuteTime": {
     "end_time": "2023-11-29T03:34:30.120796400Z",
     "start_time": "2023-11-29T03:34:30.093604400Z"
    }
   },
   "id": "adcf485f95564440"
  }
 ],
 "metadata": {
  "kernelspec": {
   "display_name": "Python 3",
   "language": "python",
   "name": "python3"
  },
  "language_info": {
   "codemirror_mode": {
    "name": "ipython",
    "version": 2
   },
   "file_extension": ".py",
   "mimetype": "text/x-python",
   "name": "python",
   "nbconvert_exporter": "python",
   "pygments_lexer": "ipython2",
   "version": "2.7.6"
  }
 },
 "nbformat": 4,
 "nbformat_minor": 5
}
